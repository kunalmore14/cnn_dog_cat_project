{
 "cells": [
  {
   "cell_type": "code",
   "execution_count": 50,
   "id": "b5fa0faf",
   "metadata": {},
   "outputs": [],
   "source": [
    "import tensorflow\n",
    "import numpy as np"
   ]
  },
  {
   "cell_type": "code",
   "execution_count": 51,
   "id": "b62e0900",
   "metadata": {},
   "outputs": [],
   "source": [
    "from keras.layers import Dense, Conv2D, MaxPooling2D, Flatten\n",
    "from keras.models import Sequential\n",
    "from tensorflow.keras.preprocessing.image import ImageDataGenerator\n",
    "import warnings\n",
    "warnings.filterwarnings(\"ignore\", category=UserWarning, module=\"keras\")"
   ]
  },
  {
   "cell_type": "code",
   "execution_count": 52,
   "id": "b20f008f",
   "metadata": {},
   "outputs": [],
   "source": [
    "cnn = Sequential()"
   ]
  },
  {
   "cell_type": "code",
   "execution_count": 53,
   "id": "c2bbc6f3",
   "metadata": {},
   "outputs": [],
   "source": [
    "cnn.add(Conv2D(32,(3,3),input_shape = (64,64,3),activation='relu'))\n",
    "cnn.add(MaxPooling2D(pool_size=(2,2)))\n",
    "cnn.add(Conv2D(16,(3,3),activation='relu'))\n",
    "cnn.add(MaxPooling2D(pool_size=(2,2)))\n",
    "cnn.add(Flatten())"
   ]
  },
  {
   "cell_type": "code",
   "execution_count": 54,
   "id": "8582ca4c",
   "metadata": {},
   "outputs": [],
   "source": [
    "cnn.add(Dense(64,activation='relu'))\n",
    "cnn.add(Dense(32,activation='relu'))\n",
    "cnn.add(Dense(16,activation='relu'))\n",
    "cnn.add(Dense(8,activation='relu'))\n",
    "cnn.add(Dense(4,activation='relu'))\n",
    "cnn.add(Dense(1,activation='sigmoid'))"
   ]
  },
  {
   "cell_type": "code",
   "execution_count": 55,
   "id": "9828ee8e",
   "metadata": {},
   "outputs": [],
   "source": [
    "cnn.compile(loss='binary_crossentropy',optimizer='adam')"
   ]
  },
  {
   "cell_type": "code",
   "execution_count": 56,
   "id": "0cab1dd9",
   "metadata": {},
   "outputs": [],
   "source": [
    "# for code of keras visit \"https://faroit.com/keras-docs/1.2.0/preprocessing/image/\""
   ]
  },
  {
   "cell_type": "code",
   "execution_count": 57,
   "id": "4141d666",
   "metadata": {},
   "outputs": [
    {
     "name": "stdout",
     "output_type": "stream",
     "text": [
      "Found 18743 images belonging to 2 classes.\n",
      "Found 6251 images belonging to 2 classes.\n",
      "Epoch 1/5\n",
      "\u001b[1m20/20\u001b[0m \u001b[32m━━━━━━━━━━━━━━━━━━━━\u001b[0m\u001b[37m\u001b[0m \u001b[1m36s\u001b[0m 2s/step - loss: 0.6937 - val_loss: 0.6934\n",
      "Epoch 2/5\n",
      "\u001b[1m20/20\u001b[0m \u001b[32m━━━━━━━━━━━━━━━━━━━━\u001b[0m\u001b[37m\u001b[0m \u001b[1m30s\u001b[0m 2s/step - loss: 0.6927 - val_loss: 0.6915\n",
      "Epoch 3/5\n",
      "\u001b[1m20/20\u001b[0m \u001b[32m━━━━━━━━━━━━━━━━━━━━\u001b[0m\u001b[37m\u001b[0m \u001b[1m28s\u001b[0m 1s/step - loss: 0.6931 - val_loss: 0.6917\n",
      "Epoch 4/5\n",
      "\u001b[1m20/20\u001b[0m \u001b[32m━━━━━━━━━━━━━━━━━━━━\u001b[0m\u001b[37m\u001b[0m \u001b[1m23s\u001b[0m 1s/step - loss: 0.6893 - val_loss: 0.6906\n",
      "Epoch 5/5\n",
      "\u001b[1m20/20\u001b[0m \u001b[32m━━━━━━━━━━━━━━━━━━━━\u001b[0m\u001b[37m\u001b[0m \u001b[1m18s\u001b[0m 947ms/step - loss: 0.6908 - val_loss: 0.6929\n"
     ]
    },
    {
     "data": {
      "text/plain": [
       "<keras.src.callbacks.history.History at 0x155d8485b80>"
      ]
     },
     "execution_count": 57,
     "metadata": {},
     "output_type": "execute_result"
    }
   ],
   "source": [
    "train_datagen = ImageDataGenerator(\n",
    "        rescale=1./255,\n",
    "        shear_range=0.2,\n",
    "        zoom_range=0.2,\n",
    "        horizontal_flip=True)\n",
    "\n",
    "test_datagen = ImageDataGenerator(rescale=1./255)\n",
    "\n",
    "train_generator = train_datagen.flow_from_directory(r\"E:\\CATS_DOGS\\train\",target_size=(64, 64),batch_size=32,class_mode='binary')\n",
    "\n",
    "test_generator = test_datagen.flow_from_directory(\n",
    "        r\"E:\\CATS_DOGS\\test\",\n",
    "        target_size=(64, 64),\n",
    "        batch_size=32,\n",
    "        class_mode='binary')\n",
    "\n",
    "cnn.fit(train_generator,steps_per_epoch=20,epochs=5,validation_data=test_generator)"
   ]
  },
  {
   "cell_type": "code",
   "execution_count": 58,
   "id": "78410073",
   "metadata": {},
   "outputs": [],
   "source": [
    "from keras.preprocessing import image"
   ]
  },
  {
   "cell_type": "code",
   "execution_count": 59,
   "id": "a686ab59",
   "metadata": {},
   "outputs": [],
   "source": [
    "img = image.load_img(r\"E:\\CATS_DOGS\\test\\CAT\\9394.jpg\",target_size=(64,64))"
   ]
  },
  {
   "cell_type": "code",
   "execution_count": 60,
   "id": "a20c2930",
   "metadata": {},
   "outputs": [],
   "source": [
    "img = image.img_to_array(img)"
   ]
  },
  {
   "cell_type": "code",
   "execution_count": 61,
   "id": "e245e0f3",
   "metadata": {},
   "outputs": [
    {
     "data": {
      "text/plain": [
       "array([[[ 77.,  79.,  74.],\n",
       "        [ 73.,  74.,  76.],\n",
       "        [ 70.,  71.,  66.],\n",
       "        ...,\n",
       "        [ 51.,  59.,  70.],\n",
       "        [ 42.,  46.,  45.],\n",
       "        [ 54.,  64.,  63.]],\n",
       "\n",
       "       [[ 74.,  74.,  64.],\n",
       "        [ 74.,  77.,  58.],\n",
       "        [ 74.,  77.,  70.],\n",
       "        ...,\n",
       "        [ 54.,  71.,  65.],\n",
       "        [ 49.,  49.,  57.],\n",
       "        [ 48.,  62.,  63.]],\n",
       "\n",
       "       [[ 70.,  76.,  66.],\n",
       "        [ 74.,  80.,  66.],\n",
       "        [ 67.,  73.,  61.],\n",
       "        ...,\n",
       "        [ 46.,  61.,  58.],\n",
       "        [ 58.,  76.,  76.],\n",
       "        [ 41.,  52.,  56.]],\n",
       "\n",
       "       ...,\n",
       "\n",
       "       [[142., 167., 148.],\n",
       "        [145., 150., 127.],\n",
       "        [156., 163., 147.],\n",
       "        ...,\n",
       "        [117., 132., 113.],\n",
       "        [131., 146., 149.],\n",
       "        [113., 142., 122.]],\n",
       "\n",
       "       [[136., 144., 129.],\n",
       "        [143., 151., 130.],\n",
       "        [149., 158., 137.],\n",
       "        ...,\n",
       "        [142., 150., 139.],\n",
       "        [165., 179., 164.],\n",
       "        [135., 146., 148.]],\n",
       "\n",
       "       [[149., 165., 154.],\n",
       "        [170., 163., 157.],\n",
       "        [152., 157., 150.],\n",
       "        ...,\n",
       "        [165., 182., 164.],\n",
       "        [175., 182., 174.],\n",
       "        [197., 209., 195.]]], dtype=float32)"
      ]
     },
     "execution_count": 61,
     "metadata": {},
     "output_type": "execute_result"
    }
   ],
   "source": [
    "img"
   ]
  },
  {
   "cell_type": "code",
   "execution_count": 63,
   "id": "b376872e",
   "metadata": {},
   "outputs": [],
   "source": [
    "img = np.expand_dims(img,axis=0)"
   ]
  },
  {
   "cell_type": "code",
   "execution_count": 69,
   "id": "ee09fc16",
   "metadata": {},
   "outputs": [
    {
     "name": "stdout",
     "output_type": "stream",
     "text": [
      "\u001b[1m1/1\u001b[0m \u001b[32m━━━━━━━━━━━━━━━━━━━━\u001b[0m\u001b[37m\u001b[0m \u001b[1m0s\u001b[0m 21ms/step\n"
     ]
    }
   ],
   "source": [
    "p = cnn.predict(img)"
   ]
  },
  {
   "cell_type": "code",
   "execution_count": 71,
   "id": "a0433efa",
   "metadata": {},
   "outputs": [
    {
     "name": "stdout",
     "output_type": "stream",
     "text": [
      "Cat\n"
     ]
    }
   ],
   "source": [
    "if p[0][0] < 0.5:\n",
    "    print('Dog')\n",
    "else:\n",
    "    print(\"Cat\")"
   ]
  },
  {
   "cell_type": "code",
   "execution_count": null,
   "id": "95273285",
   "metadata": {},
   "outputs": [],
   "source": []
  }
 ],
 "metadata": {
  "kernelspec": {
   "display_name": "Python 3 (ipykernel)",
   "language": "python",
   "name": "python3"
  },
  "language_info": {
   "codemirror_mode": {
    "name": "ipython",
    "version": 3
   },
   "file_extension": ".py",
   "mimetype": "text/x-python",
   "name": "python",
   "nbconvert_exporter": "python",
   "pygments_lexer": "ipython3",
   "version": "3.12.3"
  }
 },
 "nbformat": 4,
 "nbformat_minor": 5
}
